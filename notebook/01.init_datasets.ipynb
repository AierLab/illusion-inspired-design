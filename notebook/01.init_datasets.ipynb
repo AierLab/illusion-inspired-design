{
 "cells": [
  {
   "cell_type": "code",
   "execution_count": 76,
   "id": "56bf32f6",
   "metadata": {},
   "outputs": [],
   "source": [
    "import os\n",
    "os.chdir(\"/workspace/illusion-inspired-design\")\n"
   ]
  },
  {
   "cell_type": "code",
   "execution_count": 78,
   "id": "65436222",
   "metadata": {},
   "outputs": [
    {
     "data": {
      "text/plain": [
       "0"
      ]
     },
     "execution_count": 78,
     "metadata": {},
     "output_type": "execute_result"
    }
   ],
   "source": [
    "os.makedirs(\"logs\", exist_ok=True)\n",
    "\n",
    "os.system(f\"nohup uv run download.py > logs/download.log 2>&1 &\")\n",
    "os.system(f\"nohup uv run generate.py > logs/generate.log 2>&1 &\")"
   ]
  },
  {
   "cell_type": "code",
   "execution_count": null,
   "id": "666256f4-55fd-4d7f-ba72-26e202c0f24e",
   "metadata": {},
   "outputs": [],
   "source": [
    "os.system(f\"nohup uv run processing.py > logs/processing.log 2>&1 &\")"
   ]
  },
  {
   "cell_type": "code",
   "execution_count": 72,
   "id": "4f78aa0a-8d89-4263-b86b-aad925a41626",
   "metadata": {},
   "outputs": [],
   "source": [
    "# !ps aux"
   ]
  },
  {
   "cell_type": "code",
   "execution_count": 74,
   "id": "b36a5352-29ed-46f6-99e5-452beed70e6b",
   "metadata": {},
   "outputs": [],
   "source": [
    "# !kill 8408  "
   ]
  },
  {
   "cell_type": "code",
   "execution_count": null,
   "id": "40bb876b-f8b8-46cb-8fd5-61f4debfbedd",
   "metadata": {},
   "outputs": [],
   "source": []
  }
 ],
 "metadata": {
  "kernelspec": {
   "display_name": "Python 3 (ipykernel)",
   "language": "python",
   "name": "python3"
  },
  "language_info": {
   "codemirror_mode": {
    "name": "ipython",
    "version": 3
   },
   "file_extension": ".py",
   "mimetype": "text/x-python",
   "name": "python",
   "nbconvert_exporter": "python",
   "pygments_lexer": "ipython3",
   "version": "3.11.10"
  }
 },
 "nbformat": 4,
 "nbformat_minor": 5
}
