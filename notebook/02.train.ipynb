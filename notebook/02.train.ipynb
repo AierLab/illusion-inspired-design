{
 "cells": [
  {
   "cell_type": "code",
   "execution_count": 53,
   "id": "cb08cf3a",
   "metadata": {},
   "outputs": [],
   "source": [
    "import os\n",
    "os.chdir(\"/workspace/illusion-inspired-design\")\n"
   ]
  },
  {
   "cell_type": "code",
   "execution_count": 54,
   "id": "a5b27288",
   "metadata": {},
   "outputs": [
    {
     "data": {
      "text/plain": [
       "0"
      ]
     },
     "execution_count": 54,
     "metadata": {},
     "output_type": "execute_result"
    }
   ],
   "source": [
    "os.makedirs(\"logs\", exist_ok=True)\n",
    "\n",
    "os.system(f\"nohup bash script/train_all.sh > logs/train.log 2>&1 &\")"
   ]
  },
  {
   "cell_type": "code",
   "execution_count": 61,
   "id": "8cf17a69-3afe-49ce-9671-1ce6e07b559f",
   "metadata": {},
   "outputs": [
    {
     "name": "stdout",
     "output_type": "stream",
     "text": [
      "root      142722  0.0  0.0   4740  2908 pts/8    Ss+  13:28   0:00 /bin/bash -c ps aux | grep train.py\n",
      "root      142724  0.0  0.0   3848  1920 pts/8    S+   13:28   0:00 grep train.py\n"
     ]
    }
   ],
   "source": [
    "# !ps aux | grep train.py"
   ]
  },
  {
   "cell_type": "code",
   "execution_count": 62,
   "id": "feca5e77-9fa7-42fa-adb8-6d0dcac68bca",
   "metadata": {},
   "outputs": [],
   "source": [
    "# !kill 134481  "
   ]
  },
  {
   "cell_type": "code",
   "execution_count": null,
   "id": "820b80aa-8abc-438a-a44a-f3fd41f70408",
   "metadata": {},
   "outputs": [],
   "source": []
  }
 ],
 "metadata": {
  "kernelspec": {
   "display_name": "Python 3 (ipykernel)",
   "language": "python",
   "name": "python3"
  },
  "language_info": {
   "codemirror_mode": {
    "name": "ipython",
    "version": 3
   },
   "file_extension": ".py",
   "mimetype": "text/x-python",
   "name": "python",
   "nbconvert_exporter": "python",
   "pygments_lexer": "ipython3",
   "version": "3.11.10"
  }
 },
 "nbformat": 4,
 "nbformat_minor": 5
}
